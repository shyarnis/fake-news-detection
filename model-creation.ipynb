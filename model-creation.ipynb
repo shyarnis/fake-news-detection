{
 "cells": [
  {
   "cell_type": "code",
   "execution_count": 10,
   "id": "7291e56e",
   "metadata": {},
   "outputs": [],
   "source": [
    "import pandas as pd\n",
    "import numpy as np"
   ]
  },
  {
   "cell_type": "code",
   "execution_count": 11,
   "id": "5f09557c",
   "metadata": {},
   "outputs": [],
   "source": [
    "df_srs_wr = pd.read_csv(\"sample-dataset/dataset-with-replacement.csv\")"
   ]
  },
  {
   "cell_type": "code",
   "execution_count": 12,
   "id": "b98462c7",
   "metadata": {},
   "outputs": [
    {
     "data": {
      "text/html": [
       "<div>\n",
       "<style scoped>\n",
       "    .dataframe tbody tr th:only-of-type {\n",
       "        vertical-align: middle;\n",
       "    }\n",
       "\n",
       "    .dataframe tbody tr th {\n",
       "        vertical-align: top;\n",
       "    }\n",
       "\n",
       "    .dataframe thead th {\n",
       "        text-align: right;\n",
       "    }\n",
       "</style>\n",
       "<table border=\"1\" class=\"dataframe\">\n",
       "  <thead>\n",
       "    <tr style=\"text-align: right;\">\n",
       "      <th></th>\n",
       "      <th>Unnamed: 0</th>\n",
       "      <th>title</th>\n",
       "      <th>text</th>\n",
       "      <th>label</th>\n",
       "    </tr>\n",
       "  </thead>\n",
       "  <tbody>\n",
       "    <tr>\n",
       "      <th>0</th>\n",
       "      <td>0</td>\n",
       "      <td>IT’S CHRISTMAS IN OCTOBER: American Debt Is $1...</td>\n",
       "      <td>This one sentence should scare every taxpaying...</td>\n",
       "      <td>Real</td>\n",
       "    </tr>\n",
       "    <tr>\n",
       "      <th>1</th>\n",
       "      <td>1</td>\n",
       "      <td>High School Forced to Change Mascot over Accus...</td>\n",
       "      <td>A school district in Kentucky has canceled the...</td>\n",
       "      <td>Fake</td>\n",
       "    </tr>\n",
       "    <tr>\n",
       "      <th>2</th>\n",
       "      <td>2</td>\n",
       "      <td>Vanguard CEO 'encouraged' by efforts to revise...</td>\n",
       "      <td>(Reuters) - Vanguard Group Chief Executive Bil...</td>\n",
       "      <td>Fake</td>\n",
       "    </tr>\n",
       "    <tr>\n",
       "      <th>3</th>\n",
       "      <td>3</td>\n",
       "      <td>UNREAL! CBS’S TED KOPPEL Tells Sean Hannity He...</td>\n",
       "      <td></td>\n",
       "      <td>Real</td>\n",
       "    </tr>\n",
       "    <tr>\n",
       "      <th>4</th>\n",
       "      <td>4</td>\n",
       "      <td>I’m Running Out of Popcorn – Harvey Organ</td>\n",
       "      <td>Let us have a look at the data for today \\n. \\...</td>\n",
       "      <td>Real</td>\n",
       "    </tr>\n",
       "    <tr>\n",
       "      <th>...</th>\n",
       "      <td>...</td>\n",
       "      <td>...</td>\n",
       "      <td>...</td>\n",
       "      <td>...</td>\n",
       "    </tr>\n",
       "    <tr>\n",
       "      <th>18028</th>\n",
       "      <td>18028</td>\n",
       "      <td>Maher: When GOP Goes Low, Democrats Should ’Ki...</td>\n",
       "      <td>WARNING: ADULT CONTENT]  Friday night during h...</td>\n",
       "      <td>Fake</td>\n",
       "    </tr>\n",
       "    <tr>\n",
       "      <th>18029</th>\n",
       "      <td>18029</td>\n",
       "      <td>MAINE GOVERNOR joins Kansas, Texas, and New Je...</td>\n",
       "      <td>MAINE GOVERNOR joins Kansas, Texas, and New Je...</td>\n",
       "      <td>Real</td>\n",
       "    </tr>\n",
       "    <tr>\n",
       "      <th>18030</th>\n",
       "      <td>18030</td>\n",
       "      <td>Eastern Libyan force says \"terrorist group\" pr...</td>\n",
       "      <td>BENGHAZI, Libya (Reuters) - A  terrorist group...</td>\n",
       "      <td>Fake</td>\n",
       "    </tr>\n",
       "    <tr>\n",
       "      <th>18031</th>\n",
       "      <td>18031</td>\n",
       "      <td>Core Wounds, Soul Family Reunions, and Time Gl...</td>\n",
       "      <td>Click Here To Learn More About Alexandra's Per...</td>\n",
       "      <td>Real</td>\n",
       "    </tr>\n",
       "    <tr>\n",
       "      <th>18032</th>\n",
       "      <td>18032</td>\n",
       "      <td>Kremlin says Russia not accused in U.S. case a...</td>\n",
       "      <td>MOSCOW (Reuters) - The Kremlin said on Tuesday...</td>\n",
       "      <td>Fake</td>\n",
       "    </tr>\n",
       "  </tbody>\n",
       "</table>\n",
       "<p>18033 rows × 4 columns</p>\n",
       "</div>"
      ],
      "text/plain": [
       "       Unnamed: 0                                              title  \\\n",
       "0               0  IT’S CHRISTMAS IN OCTOBER: American Debt Is $1...   \n",
       "1               1  High School Forced to Change Mascot over Accus...   \n",
       "2               2  Vanguard CEO 'encouraged' by efforts to revise...   \n",
       "3               3  UNREAL! CBS’S TED KOPPEL Tells Sean Hannity He...   \n",
       "4               4          I’m Running Out of Popcorn – Harvey Organ   \n",
       "...           ...                                                ...   \n",
       "18028       18028  Maher: When GOP Goes Low, Democrats Should ’Ki...   \n",
       "18029       18029  MAINE GOVERNOR joins Kansas, Texas, and New Je...   \n",
       "18030       18030  Eastern Libyan force says \"terrorist group\" pr...   \n",
       "18031       18031  Core Wounds, Soul Family Reunions, and Time Gl...   \n",
       "18032       18032  Kremlin says Russia not accused in U.S. case a...   \n",
       "\n",
       "                                                    text label  \n",
       "0      This one sentence should scare every taxpaying...  Real  \n",
       "1      A school district in Kentucky has canceled the...  Fake  \n",
       "2      (Reuters) - Vanguard Group Chief Executive Bil...  Fake  \n",
       "3                                                         Real  \n",
       "4      Let us have a look at the data for today \\n. \\...  Real  \n",
       "...                                                  ...   ...  \n",
       "18028  WARNING: ADULT CONTENT]  Friday night during h...  Fake  \n",
       "18029  MAINE GOVERNOR joins Kansas, Texas, and New Je...  Real  \n",
       "18030  BENGHAZI, Libya (Reuters) - A  terrorist group...  Fake  \n",
       "18031  Click Here To Learn More About Alexandra's Per...  Real  \n",
       "18032  MOSCOW (Reuters) - The Kremlin said on Tuesday...  Fake  \n",
       "\n",
       "[18033 rows x 4 columns]"
      ]
     },
     "execution_count": 12,
     "metadata": {},
     "output_type": "execute_result"
    }
   ],
   "source": [
    "df_srs_wr"
   ]
  },
  {
   "cell_type": "code",
   "execution_count": 17,
   "id": "7b5f5074",
   "metadata": {},
   "outputs": [],
   "source": [
    "df_srs_wr.drop([\"Unnamed: 0\"], axis=1, inplace=True)"
   ]
  },
  {
   "cell_type": "code",
   "execution_count": 18,
   "id": "03bfbf93",
   "metadata": {},
   "outputs": [],
   "source": [
    "df_srs_wr = df_srs_wr.fillna('')"
   ]
  },
  {
   "cell_type": "code",
   "execution_count": 19,
   "id": "01d8b14b",
   "metadata": {},
   "outputs": [
    {
     "data": {
      "text/html": [
       "<div>\n",
       "<style scoped>\n",
       "    .dataframe tbody tr th:only-of-type {\n",
       "        vertical-align: middle;\n",
       "    }\n",
       "\n",
       "    .dataframe tbody tr th {\n",
       "        vertical-align: top;\n",
       "    }\n",
       "\n",
       "    .dataframe thead th {\n",
       "        text-align: right;\n",
       "    }\n",
       "</style>\n",
       "<table border=\"1\" class=\"dataframe\">\n",
       "  <thead>\n",
       "    <tr style=\"text-align: right;\">\n",
       "      <th></th>\n",
       "      <th>title</th>\n",
       "      <th>text</th>\n",
       "      <th>label</th>\n",
       "    </tr>\n",
       "  </thead>\n",
       "  <tbody>\n",
       "  </tbody>\n",
       "</table>\n",
       "</div>"
      ],
      "text/plain": [
       "Empty DataFrame\n",
       "Columns: [title, text, label]\n",
       "Index: []"
      ]
     },
     "execution_count": 19,
     "metadata": {},
     "output_type": "execute_result"
    }
   ],
   "source": [
    "df_srs_wr[df_srs_wr.isnull().any(axis=1)]"
   ]
  },
  {
   "cell_type": "code",
   "execution_count": 20,
   "id": "b06850c5",
   "metadata": {},
   "outputs": [
    {
     "data": {
      "text/plain": [
       "(18033, 3)"
      ]
     },
     "execution_count": 20,
     "metadata": {},
     "output_type": "execute_result"
    }
   ],
   "source": [
    "df_srs_wr.shape"
   ]
  },
  {
   "cell_type": "code",
   "execution_count": null,
   "id": "35dc71be",
   "metadata": {},
   "outputs": [],
   "source": []
  }
 ],
 "metadata": {
  "kernelspec": {
   "display_name": "Python 3 (ipykernel)",
   "language": "python",
   "name": "python3"
  },
  "language_info": {
   "codemirror_mode": {
    "name": "ipython",
    "version": 3
   },
   "file_extension": ".py",
   "mimetype": "text/x-python",
   "name": "python",
   "nbconvert_exporter": "python",
   "pygments_lexer": "ipython3",
   "version": "3.8.10"
  }
 },
 "nbformat": 4,
 "nbformat_minor": 5
}
