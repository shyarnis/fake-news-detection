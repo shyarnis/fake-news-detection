{
 "cells": [
  {
   "cell_type": "markdown",
   "id": "70981617",
   "metadata": {},
   "source": [
    "## Data Reduction "
   ]
  },
  {
   "cell_type": "markdown",
   "id": "43b93062",
   "metadata": {},
   "source": [
    "Before Data reduction, performing EDA process again to maintain the integrity of the original data.\n",
    "- [Data Sampling](#Data-Sampling)\n",
    "    - [Simple random sampling with replacement (SRSWR)](#Simple-random-sampling-with-replacement-(SRSWR))\n",
    "    - [Simple random sampling without replacement (SRSWOR)](#Simple-random-sampling-without-replacement-(SRSWOR))\n",
    "    - [Cluster sampling](#Cluster-Sampling)\n",
    "    - [Stratiﬁed sampling](#Stratified-Sampling)\n",
    "    \n",
    "A new dataset is obtained by performing data sampling process and saved obtained data into `sample-dataset/` directory."
   ]
  },
  {
   "cell_type": "code",
   "execution_count": 1,
   "id": "da292b80",
   "metadata": {},
   "outputs": [],
   "source": [
    "import pandas as pd\n",
    "import numpy as np"
   ]
  },
  {
   "cell_type": "code",
   "execution_count": 2,
   "id": "1e9409ba",
   "metadata": {},
   "outputs": [],
   "source": [
    "df = pd.read_csv(\"real-dataset/WELFake_Dataset.csv\")"
   ]
  },
  {
   "cell_type": "code",
   "execution_count": 3,
   "id": "93083346",
   "metadata": {},
   "outputs": [
    {
     "data": {
      "text/html": [
       "<div>\n",
       "<style scoped>\n",
       "    .dataframe tbody tr th:only-of-type {\n",
       "        vertical-align: middle;\n",
       "    }\n",
       "\n",
       "    .dataframe tbody tr th {\n",
       "        vertical-align: top;\n",
       "    }\n",
       "\n",
       "    .dataframe thead th {\n",
       "        text-align: right;\n",
       "    }\n",
       "</style>\n",
       "<table border=\"1\" class=\"dataframe\">\n",
       "  <thead>\n",
       "    <tr style=\"text-align: right;\">\n",
       "      <th></th>\n",
       "      <th>Unnamed: 0</th>\n",
       "      <th>title</th>\n",
       "      <th>text</th>\n",
       "      <th>label</th>\n",
       "    </tr>\n",
       "  </thead>\n",
       "  <tbody>\n",
       "    <tr>\n",
       "      <th>0</th>\n",
       "      <td>0</td>\n",
       "      <td>LAW ENFORCEMENT ON HIGH ALERT Following Threat...</td>\n",
       "      <td>No comment is expected from Barack Obama Membe...</td>\n",
       "      <td>1</td>\n",
       "    </tr>\n",
       "    <tr>\n",
       "      <th>1</th>\n",
       "      <td>1</td>\n",
       "      <td>NaN</td>\n",
       "      <td>Did they post their votes for Hillary already?</td>\n",
       "      <td>1</td>\n",
       "    </tr>\n",
       "    <tr>\n",
       "      <th>2</th>\n",
       "      <td>2</td>\n",
       "      <td>UNBELIEVABLE! OBAMA’S ATTORNEY GENERAL SAYS MO...</td>\n",
       "      <td>Now, most of the demonstrators gathered last ...</td>\n",
       "      <td>1</td>\n",
       "    </tr>\n",
       "    <tr>\n",
       "      <th>3</th>\n",
       "      <td>3</td>\n",
       "      <td>Bobby Jindal, raised Hindu, uses story of Chri...</td>\n",
       "      <td>A dozen politically active pastors came here f...</td>\n",
       "      <td>0</td>\n",
       "    </tr>\n",
       "  </tbody>\n",
       "</table>\n",
       "</div>"
      ],
      "text/plain": [
       "   Unnamed: 0                                              title  \\\n",
       "0           0  LAW ENFORCEMENT ON HIGH ALERT Following Threat...   \n",
       "1           1                                                NaN   \n",
       "2           2  UNBELIEVABLE! OBAMA’S ATTORNEY GENERAL SAYS MO...   \n",
       "3           3  Bobby Jindal, raised Hindu, uses story of Chri...   \n",
       "\n",
       "                                                text  label  \n",
       "0  No comment is expected from Barack Obama Membe...      1  \n",
       "1     Did they post their votes for Hillary already?      1  \n",
       "2   Now, most of the demonstrators gathered last ...      1  \n",
       "3  A dozen politically active pastors came here f...      0  "
      ]
     },
     "execution_count": 3,
     "metadata": {},
     "output_type": "execute_result"
    }
   ],
   "source": [
    "df.head(4)"
   ]
  },
  {
   "cell_type": "code",
   "execution_count": 4,
   "id": "609780c8",
   "metadata": {},
   "outputs": [
    {
     "data": {
      "text/plain": [
       "(72134, 4)"
      ]
     },
     "execution_count": 4,
     "metadata": {},
     "output_type": "execute_result"
    }
   ],
   "source": [
    "df.shape"
   ]
  },
  {
   "cell_type": "code",
   "execution_count": 5,
   "id": "1523b2ba",
   "metadata": {},
   "outputs": [],
   "source": [
    "df.drop([\"Unnamed: 0\"], axis=1, inplace=True)"
   ]
  },
  {
   "cell_type": "code",
   "execution_count": 6,
   "id": "0d9c48f9",
   "metadata": {},
   "outputs": [],
   "source": [
    "# Replace 1 and 0 by Real and Fake (news).\n",
    "\n",
    "df['label'] = df['label'].replace({1: 'Real', 0: 'Fake'})"
   ]
  },
  {
   "cell_type": "code",
   "execution_count": 7,
   "id": "d0ccc716",
   "metadata": {},
   "outputs": [],
   "source": [
    "# filling NaN values with '' empty string\n",
    "df = df.fillna('')"
   ]
  },
  {
   "cell_type": "code",
   "execution_count": 8,
   "id": "1e60ff68",
   "metadata": {},
   "outputs": [
    {
     "data": {
      "text/plain": [
       "(72134, 3)"
      ]
     },
     "execution_count": 8,
     "metadata": {},
     "output_type": "execute_result"
    }
   ],
   "source": [
    "df.shape"
   ]
  },
  {
   "cell_type": "code",
   "execution_count": 9,
   "id": "c6c77582",
   "metadata": {},
   "outputs": [
    {
     "data": {
      "text/plain": [
       "label\n",
       "Real    37106\n",
       "Fake    35028\n",
       "Name: count, dtype: int64"
      ]
     },
     "execution_count": 9,
     "metadata": {},
     "output_type": "execute_result"
    }
   ],
   "source": [
    "df['label'].value_counts()"
   ]
  },
  {
   "cell_type": "code",
   "execution_count": 11,
   "id": "c3ca4497",
   "metadata": {},
   "outputs": [],
   "source": [
    "## function to calculate tabulation\n",
    "def calculate_tabulation(dataframe):\n",
    "    '''\n",
    "    Calucate tabulation by count and percentage of given dataframe.\n",
    "    For label attribute only.\n",
    "    '''\n",
    "    \n",
    "    label_count = dataframe['label'].value_counts()\n",
    "    label_percentage = (label_count / len(dataframe) * 100 ).round(2)\n",
    "    \n",
    "    tabulation = pd.DataFrame({'Count': label_count, 'Percentage': label_percentage})\n",
    "    \n",
    "    total_count = tabulation['Count'].sum()\n",
    "    total_percentage = tabulation['Percentage'].sum()\n",
    "    tabulation.loc['Total'] = [total_count, total_percentage]\n",
    "    \n",
    "    return tabulation"
   ]
  },
  {
   "cell_type": "code",
   "execution_count": 12,
   "id": "5abd6a92",
   "metadata": {},
   "outputs": [
    {
     "data": {
      "text/html": [
       "<div>\n",
       "<style scoped>\n",
       "    .dataframe tbody tr th:only-of-type {\n",
       "        vertical-align: middle;\n",
       "    }\n",
       "\n",
       "    .dataframe tbody tr th {\n",
       "        vertical-align: top;\n",
       "    }\n",
       "\n",
       "    .dataframe thead th {\n",
       "        text-align: right;\n",
       "    }\n",
       "</style>\n",
       "<table border=\"1\" class=\"dataframe\">\n",
       "  <thead>\n",
       "    <tr style=\"text-align: right;\">\n",
       "      <th>label</th>\n",
       "      <th>Real</th>\n",
       "      <th>Fake</th>\n",
       "      <th>Total</th>\n",
       "    </tr>\n",
       "  </thead>\n",
       "  <tbody>\n",
       "    <tr>\n",
       "      <th>Count</th>\n",
       "      <td>37106.00</td>\n",
       "      <td>35028.00</td>\n",
       "      <td>72134.0</td>\n",
       "    </tr>\n",
       "    <tr>\n",
       "      <th>Percentage</th>\n",
       "      <td>51.44</td>\n",
       "      <td>48.56</td>\n",
       "      <td>100.0</td>\n",
       "    </tr>\n",
       "  </tbody>\n",
       "</table>\n",
       "</div>"
      ],
      "text/plain": [
       "label           Real      Fake    Total\n",
       "Count       37106.00  35028.00  72134.0\n",
       "Percentage     51.44     48.56    100.0"
      ]
     },
     "execution_count": 12,
     "metadata": {},
     "output_type": "execute_result"
    }
   ],
   "source": [
    "calculate_tabulation(df).T"
   ]
  },
  {
   "cell_type": "code",
   "execution_count": 13,
   "id": "35bff999",
   "metadata": {},
   "outputs": [
    {
     "data": {
      "text/html": [
       "<div>\n",
       "<style scoped>\n",
       "    .dataframe tbody tr th:only-of-type {\n",
       "        vertical-align: middle;\n",
       "    }\n",
       "\n",
       "    .dataframe tbody tr th {\n",
       "        vertical-align: top;\n",
       "    }\n",
       "\n",
       "    .dataframe thead th {\n",
       "        text-align: right;\n",
       "    }\n",
       "</style>\n",
       "<table border=\"1\" class=\"dataframe\">\n",
       "  <thead>\n",
       "    <tr style=\"text-align: right;\">\n",
       "      <th></th>\n",
       "      <th>title</th>\n",
       "      <th>text</th>\n",
       "      <th>label</th>\n",
       "    </tr>\n",
       "  </thead>\n",
       "  <tbody>\n",
       "    <tr>\n",
       "      <th>0</th>\n",
       "      <td>LAW ENFORCEMENT ON HIGH ALERT Following Threat...</td>\n",
       "      <td>No comment is expected from Barack Obama Membe...</td>\n",
       "      <td>Real</td>\n",
       "    </tr>\n",
       "    <tr>\n",
       "      <th>1</th>\n",
       "      <td></td>\n",
       "      <td>Did they post their votes for Hillary already?</td>\n",
       "      <td>Real</td>\n",
       "    </tr>\n",
       "    <tr>\n",
       "      <th>2</th>\n",
       "      <td>UNBELIEVABLE! OBAMA’S ATTORNEY GENERAL SAYS MO...</td>\n",
       "      <td>Now, most of the demonstrators gathered last ...</td>\n",
       "      <td>Real</td>\n",
       "    </tr>\n",
       "  </tbody>\n",
       "</table>\n",
       "</div>"
      ],
      "text/plain": [
       "                                               title  \\\n",
       "0  LAW ENFORCEMENT ON HIGH ALERT Following Threat...   \n",
       "1                                                      \n",
       "2  UNBELIEVABLE! OBAMA’S ATTORNEY GENERAL SAYS MO...   \n",
       "\n",
       "                                                text label  \n",
       "0  No comment is expected from Barack Obama Membe...  Real  \n",
       "1     Did they post their votes for Hillary already?  Real  \n",
       "2   Now, most of the demonstrators gathered last ...  Real  "
      ]
     },
     "execution_count": 13,
     "metadata": {},
     "output_type": "execute_result"
    }
   ],
   "source": [
    "df.head(3)"
   ]
  },
  {
   "cell_type": "markdown",
   "id": "9a65f924",
   "metadata": {},
   "source": [
    "## Data Sampling"
   ]
  },
  {
   "cell_type": "code",
   "execution_count": 14,
   "id": "b7cbe7c3",
   "metadata": {},
   "outputs": [
    {
     "data": {
      "text/plain": [
       "18033"
      ]
     },
     "execution_count": 14,
     "metadata": {},
     "output_type": "execute_result"
    }
   ],
   "source": [
    "# 25% of given dataset.\n",
    "\n",
    "percentage = 0.25\n",
    "sample_size = int(percentage * df.shape[0])\n",
    "sample_size"
   ]
  },
  {
   "cell_type": "markdown",
   "id": "2f7e3975",
   "metadata": {},
   "source": [
    "###  Simple random sampling with replacement (SRSWR) "
   ]
  },
  {
   "cell_type": "code",
   "execution_count": 16,
   "id": "eed72638",
   "metadata": {},
   "outputs": [],
   "source": [
    "df_srs_wr = df.sample(n=sample_size, replace=True, random_state=42, ignore_index=True)"
   ]
  },
  {
   "cell_type": "code",
   "execution_count": 19,
   "id": "667d785a",
   "metadata": {},
   "outputs": [
    {
     "data": {
      "text/html": [
       "<div>\n",
       "<style scoped>\n",
       "    .dataframe tbody tr th:only-of-type {\n",
       "        vertical-align: middle;\n",
       "    }\n",
       "\n",
       "    .dataframe tbody tr th {\n",
       "        vertical-align: top;\n",
       "    }\n",
       "\n",
       "    .dataframe thead th {\n",
       "        text-align: right;\n",
       "    }\n",
       "</style>\n",
       "<table border=\"1\" class=\"dataframe\">\n",
       "  <thead>\n",
       "    <tr style=\"text-align: right;\">\n",
       "      <th></th>\n",
       "      <th>title</th>\n",
       "      <th>text</th>\n",
       "      <th>label</th>\n",
       "    </tr>\n",
       "  </thead>\n",
       "  <tbody>\n",
       "    <tr>\n",
       "      <th>0</th>\n",
       "      <td>IT’S CHRISTMAS IN OCTOBER: American Debt Is $1...</td>\n",
       "      <td>This one sentence should scare every taxpaying...</td>\n",
       "      <td>Real</td>\n",
       "    </tr>\n",
       "    <tr>\n",
       "      <th>1</th>\n",
       "      <td>High School Forced to Change Mascot over Accus...</td>\n",
       "      <td>A school district in Kentucky has canceled the...</td>\n",
       "      <td>Fake</td>\n",
       "    </tr>\n",
       "    <tr>\n",
       "      <th>2</th>\n",
       "      <td>Vanguard CEO 'encouraged' by efforts to revise...</td>\n",
       "      <td>(Reuters) - Vanguard Group Chief Executive Bil...</td>\n",
       "      <td>Fake</td>\n",
       "    </tr>\n",
       "    <tr>\n",
       "      <th>3</th>\n",
       "      <td>UNREAL! CBS’S TED KOPPEL Tells Sean Hannity He...</td>\n",
       "      <td></td>\n",
       "      <td>Real</td>\n",
       "    </tr>\n",
       "    <tr>\n",
       "      <th>4</th>\n",
       "      <td>I’m Running Out of Popcorn – Harvey Organ</td>\n",
       "      <td>Let us have a look at the data for today \\n. \\...</td>\n",
       "      <td>Real</td>\n",
       "    </tr>\n",
       "  </tbody>\n",
       "</table>\n",
       "</div>"
      ],
      "text/plain": [
       "                                               title  \\\n",
       "0  IT’S CHRISTMAS IN OCTOBER: American Debt Is $1...   \n",
       "1  High School Forced to Change Mascot over Accus...   \n",
       "2  Vanguard CEO 'encouraged' by efforts to revise...   \n",
       "3  UNREAL! CBS’S TED KOPPEL Tells Sean Hannity He...   \n",
       "4          I’m Running Out of Popcorn – Harvey Organ   \n",
       "\n",
       "                                                text label  \n",
       "0  This one sentence should scare every taxpaying...  Real  \n",
       "1  A school district in Kentucky has canceled the...  Fake  \n",
       "2  (Reuters) - Vanguard Group Chief Executive Bil...  Fake  \n",
       "3                                                     Real  \n",
       "4  Let us have a look at the data for today \\n. \\...  Real  "
      ]
     },
     "execution_count": 19,
     "metadata": {},
     "output_type": "execute_result"
    }
   ],
   "source": [
    "df_srs_wr.head()"
   ]
  },
  {
   "cell_type": "code",
   "execution_count": 17,
   "id": "3a1a1175",
   "metadata": {},
   "outputs": [
    {
     "data": {
      "text/html": [
       "<div>\n",
       "<style scoped>\n",
       "    .dataframe tbody tr th:only-of-type {\n",
       "        vertical-align: middle;\n",
       "    }\n",
       "\n",
       "    .dataframe tbody tr th {\n",
       "        vertical-align: top;\n",
       "    }\n",
       "\n",
       "    .dataframe thead th {\n",
       "        text-align: right;\n",
       "    }\n",
       "</style>\n",
       "<table border=\"1\" class=\"dataframe\">\n",
       "  <thead>\n",
       "    <tr style=\"text-align: right;\">\n",
       "      <th></th>\n",
       "      <th>Count</th>\n",
       "      <th>Percentage</th>\n",
       "    </tr>\n",
       "    <tr>\n",
       "      <th>label</th>\n",
       "      <th></th>\n",
       "      <th></th>\n",
       "    </tr>\n",
       "  </thead>\n",
       "  <tbody>\n",
       "    <tr>\n",
       "      <th>Real</th>\n",
       "      <td>9287.0</td>\n",
       "      <td>51.5</td>\n",
       "    </tr>\n",
       "    <tr>\n",
       "      <th>Fake</th>\n",
       "      <td>8746.0</td>\n",
       "      <td>48.5</td>\n",
       "    </tr>\n",
       "    <tr>\n",
       "      <th>Total</th>\n",
       "      <td>18033.0</td>\n",
       "      <td>100.0</td>\n",
       "    </tr>\n",
       "  </tbody>\n",
       "</table>\n",
       "</div>"
      ],
      "text/plain": [
       "         Count  Percentage\n",
       "label                     \n",
       "Real    9287.0        51.5\n",
       "Fake    8746.0        48.5\n",
       "Total  18033.0       100.0"
      ]
     },
     "execution_count": 17,
     "metadata": {},
     "output_type": "execute_result"
    }
   ],
   "source": [
    "calculate_tabulation(df_srs_wr)"
   ]
  },
  {
   "cell_type": "code",
   "execution_count": 20,
   "id": "889a5788",
   "metadata": {},
   "outputs": [],
   "source": [
    "df_srs_wr.to_csv('sample-dataset/dataset-with-replacement.csv')"
   ]
  },
  {
   "cell_type": "markdown",
   "id": "4df48048",
   "metadata": {},
   "source": [
    "### Simple random sampling without replacement (SRSWOR)"
   ]
  },
  {
   "cell_type": "code",
   "execution_count": 23,
   "id": "535d6098",
   "metadata": {},
   "outputs": [],
   "source": [
    "df_srs_wor = df.sample(n=sample_size, replace=False, random_state=42, ignore_index=True)"
   ]
  },
  {
   "cell_type": "code",
   "execution_count": 24,
   "id": "55567ff5",
   "metadata": {},
   "outputs": [
    {
     "data": {
      "text/html": [
       "<div>\n",
       "<style scoped>\n",
       "    .dataframe tbody tr th:only-of-type {\n",
       "        vertical-align: middle;\n",
       "    }\n",
       "\n",
       "    .dataframe tbody tr th {\n",
       "        vertical-align: top;\n",
       "    }\n",
       "\n",
       "    .dataframe thead th {\n",
       "        text-align: right;\n",
       "    }\n",
       "</style>\n",
       "<table border=\"1\" class=\"dataframe\">\n",
       "  <thead>\n",
       "    <tr style=\"text-align: right;\">\n",
       "      <th>label</th>\n",
       "      <th>Real</th>\n",
       "      <th>Fake</th>\n",
       "      <th>Total</th>\n",
       "    </tr>\n",
       "  </thead>\n",
       "  <tbody>\n",
       "    <tr>\n",
       "      <th>Count</th>\n",
       "      <td>9163.00</td>\n",
       "      <td>8870.00</td>\n",
       "      <td>18033.0</td>\n",
       "    </tr>\n",
       "    <tr>\n",
       "      <th>Percentage</th>\n",
       "      <td>50.81</td>\n",
       "      <td>49.19</td>\n",
       "      <td>100.0</td>\n",
       "    </tr>\n",
       "  </tbody>\n",
       "</table>\n",
       "</div>"
      ],
      "text/plain": [
       "label          Real     Fake    Total\n",
       "Count       9163.00  8870.00  18033.0\n",
       "Percentage    50.81    49.19    100.0"
      ]
     },
     "execution_count": 24,
     "metadata": {},
     "output_type": "execute_result"
    }
   ],
   "source": [
    "calculate_tabulation(df_srs_wor).T"
   ]
  },
  {
   "cell_type": "code",
   "execution_count": 25,
   "id": "41676ecb",
   "metadata": {},
   "outputs": [],
   "source": [
    "df_srs_wor.to_csv('sample-dataset/dataset-without-replacement.csv')"
   ]
  },
  {
   "cell_type": "markdown",
   "id": "dad4a1c4",
   "metadata": {},
   "source": [
    "### Cluster Sampling"
   ]
  },
  {
   "cell_type": "code",
   "execution_count": 26,
   "id": "9881cfc8",
   "metadata": {},
   "outputs": [],
   "source": [
    "# Assuming you have some clusters in your data (e.g., based on 'label')\n",
    "clusters = df['label'].unique()\n",
    "selected_clusters = np.random.choice(clusters, size=2, replace=False)\n",
    "\n",
    "df_cluster_sampling = df[df['label'].isin(selected_clusters)]"
   ]
  },
  {
   "cell_type": "code",
   "execution_count": 27,
   "id": "0b196a88",
   "metadata": {},
   "outputs": [
    {
     "data": {
      "text/html": [
       "<div>\n",
       "<style scoped>\n",
       "    .dataframe tbody tr th:only-of-type {\n",
       "        vertical-align: middle;\n",
       "    }\n",
       "\n",
       "    .dataframe tbody tr th {\n",
       "        vertical-align: top;\n",
       "    }\n",
       "\n",
       "    .dataframe thead th {\n",
       "        text-align: right;\n",
       "    }\n",
       "</style>\n",
       "<table border=\"1\" class=\"dataframe\">\n",
       "  <thead>\n",
       "    <tr style=\"text-align: right;\">\n",
       "      <th></th>\n",
       "      <th>Count</th>\n",
       "      <th>Percentage</th>\n",
       "    </tr>\n",
       "    <tr>\n",
       "      <th>label</th>\n",
       "      <th></th>\n",
       "      <th></th>\n",
       "    </tr>\n",
       "  </thead>\n",
       "  <tbody>\n",
       "    <tr>\n",
       "      <th>Real</th>\n",
       "      <td>37106.0</td>\n",
       "      <td>51.44</td>\n",
       "    </tr>\n",
       "    <tr>\n",
       "      <th>Fake</th>\n",
       "      <td>35028.0</td>\n",
       "      <td>48.56</td>\n",
       "    </tr>\n",
       "    <tr>\n",
       "      <th>Total</th>\n",
       "      <td>72134.0</td>\n",
       "      <td>100.00</td>\n",
       "    </tr>\n",
       "  </tbody>\n",
       "</table>\n",
       "</div>"
      ],
      "text/plain": [
       "         Count  Percentage\n",
       "label                     \n",
       "Real   37106.0       51.44\n",
       "Fake   35028.0       48.56\n",
       "Total  72134.0      100.00"
      ]
     },
     "execution_count": 27,
     "metadata": {},
     "output_type": "execute_result"
    }
   ],
   "source": [
    "calculate_tabulation(df_cluster_sampling)"
   ]
  },
  {
   "cell_type": "code",
   "execution_count": 28,
   "id": "41924db2",
   "metadata": {},
   "outputs": [],
   "source": [
    "df_cluster_sampling.to_csv('sample-dataset/dataset-with-cluster-sampling.csv')"
   ]
  },
  {
   "cell_type": "markdown",
   "id": "29ed11bb",
   "metadata": {},
   "source": [
    "### Stratified Sampling"
   ]
  },
  {
   "cell_type": "code",
   "execution_count": 29,
   "id": "cf15a4d0",
   "metadata": {},
   "outputs": [],
   "source": [
    "# Assuming you have strata in your data (e.g., based on 'label')\n",
    "strata_size = sample_size  // 2\n",
    "strata_samples = df.groupby('label').apply(lambda x: x.sample(n=strata_size, random_state=42))\n",
    "\n",
    "# Combine the samples from each stratum\n",
    "df_stratified_sampling = strata_samples.reset_index(drop=True)"
   ]
  },
  {
   "cell_type": "code",
   "execution_count": 30,
   "id": "01e14c97",
   "metadata": {},
   "outputs": [
    {
     "data": {
      "text/html": [
       "<div>\n",
       "<style scoped>\n",
       "    .dataframe tbody tr th:only-of-type {\n",
       "        vertical-align: middle;\n",
       "    }\n",
       "\n",
       "    .dataframe tbody tr th {\n",
       "        vertical-align: top;\n",
       "    }\n",
       "\n",
       "    .dataframe thead th {\n",
       "        text-align: right;\n",
       "    }\n",
       "</style>\n",
       "<table border=\"1\" class=\"dataframe\">\n",
       "  <thead>\n",
       "    <tr style=\"text-align: right;\">\n",
       "      <th></th>\n",
       "      <th>Count</th>\n",
       "      <th>Percentage</th>\n",
       "    </tr>\n",
       "    <tr>\n",
       "      <th>label</th>\n",
       "      <th></th>\n",
       "      <th></th>\n",
       "    </tr>\n",
       "  </thead>\n",
       "  <tbody>\n",
       "    <tr>\n",
       "      <th>Fake</th>\n",
       "      <td>9016.0</td>\n",
       "      <td>50.0</td>\n",
       "    </tr>\n",
       "    <tr>\n",
       "      <th>Real</th>\n",
       "      <td>9016.0</td>\n",
       "      <td>50.0</td>\n",
       "    </tr>\n",
       "    <tr>\n",
       "      <th>Total</th>\n",
       "      <td>18032.0</td>\n",
       "      <td>100.0</td>\n",
       "    </tr>\n",
       "  </tbody>\n",
       "</table>\n",
       "</div>"
      ],
      "text/plain": [
       "         Count  Percentage\n",
       "label                     \n",
       "Fake    9016.0        50.0\n",
       "Real    9016.0        50.0\n",
       "Total  18032.0       100.0"
      ]
     },
     "execution_count": 30,
     "metadata": {},
     "output_type": "execute_result"
    }
   ],
   "source": [
    "calculate_tabulation(df_stratified_sampling)"
   ]
  },
  {
   "cell_type": "code",
   "execution_count": 31,
   "id": "e5c6e299",
   "metadata": {},
   "outputs": [],
   "source": [
    "df_stratified_sampling.to_csv('sample-dataset/dataset-with-stratified-sampling.csv')"
   ]
  }
 ],
 "metadata": {
  "kernelspec": {
   "display_name": "Python 3 (ipykernel)",
   "language": "python",
   "name": "python3"
  },
  "language_info": {
   "codemirror_mode": {
    "name": "ipython",
    "version": 3
   },
   "file_extension": ".py",
   "mimetype": "text/x-python",
   "name": "python",
   "nbconvert_exporter": "python",
   "pygments_lexer": "ipython3",
   "version": "3.8.10"
  }
 },
 "nbformat": 4,
 "nbformat_minor": 5
}
